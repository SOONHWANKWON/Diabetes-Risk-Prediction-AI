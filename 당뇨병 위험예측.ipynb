{
 "cells": [
  {
   "cell_type": "markdown",
   "id": "d70c7190",
   "metadata": {},
   "source": []
  },
  {
   "cell_type": "markdown",
   "id": "515cdd82-251c-4562-af44-2cd35e0da1f3",
   "metadata": {},
   "source": [
    "# 전체코드"
   ]
  },
  {
   "cell_type": "code",
   "execution_count": null,
   "id": "7bfb7a4a",
   "metadata": {},
   "outputs": [],
   "source": []
  },
  {
   "cell_type": "markdown",
   "id": "7083842b-5a51-4df5-b6f0-c5589a87698d",
   "metadata": {},
   "source": [
    "### 라이브러리 임포트 및 파일 경로를 설정\n"
   ]
  },
  {
   "cell_type": "code",
   "execution_count": null,
   "id": "3b21452d-5667-46d1-9e7d-7af402b227c6",
   "metadata": {},
   "outputs": [],
   "source": [
    "import pandas as pd\n",
    "from sklearn.model_selection import train_test_split\n",
    "from sklearn.linear_model import LogisticRegression\n",
    "from sklearn.preprocessing import StandardScaler, LabelEncoder\n",
    "from sklearn.metrics import accuracy_score\n",
    "import numpy as np"
   ]
  },
  {
   "cell_type": "markdown",
   "id": "b67af628-3b4b-4a54-bb09-9d73f9636713",
   "metadata": {},
   "source": [
    "### CSV 파일 읽기"
   ]
  },
  {
   "cell_type": "code",
   "execution_count": null,
   "id": "edbdd040-0a7b-4825-bbef-e530da225510",
   "metadata": {},
   "outputs": [],
   "source": [
    "train = pd.read_csv(train_file_path)\n",
    "test = pd.read_csv(test_file_path)\n",
    "sample_submission = pd.read_csv(sample_submission_file_path)"
   ]
  },
  {
   "cell_type": "markdown",
   "id": "ca425c51-9fc8-4fa4-8b8c-b616e9f7d000",
   "metadata": {},
   "source": [
    "### 테스트 데이터의 ID를 저장"
   ]
  },
  {
   "cell_type": "code",
   "execution_count": null,
   "id": "6cc232b2-8c86-419f-b893-1369daee04ae",
   "metadata": {},
   "outputs": [],
   "source": [
    "test_ids = test['ID']"
   ]
  },
  {
   "cell_type": "markdown",
   "id": "6fa48433-c8db-48c4-9835-d79834365f43",
   "metadata": {},
   "source": [
    "### 데이터 타입 변환"
   ]
  },
  {
   "cell_type": "code",
   "execution_count": null,
   "id": "a027c2f9-65b6-4bbd-aae4-abb9b3ed90a1",
   "metadata": {},
   "outputs": [],
   "source": [
    "rain['Age'] = train['Age'].astype(float)\n",
    "test['Age'] = test['Age'].astype(float)"
   ]
  },
  {
   "cell_type": "markdown",
   "id": "cc6cdbd4-a983-4e16-ad0d-e61f67a3ff77",
   "metadata": {},
   "source": [
    "### BloodPressure 열을 [0, 40, 80, 115] 구간으로 나누기"
   ]
  },
  {
   "cell_type": "code",
   "execution_count": null,
   "id": "9e372f3a-d52c-4310-b2ab-0985a4a30974",
   "metadata": {},
   "outputs": [],
   "source": [
    "train['bloodpressure_cut'] = pd.cut(train['BloodPressure'], bins=[0, 40, 80, 115], labels=['A', 'B', 'C'], right=False)\n",
    "test['bloodpressure_cut'] = pd.cut(test['BloodPressure'], bins=[0, 40, 80, 115], labels=['A', 'B', 'C'], right=False)"
   ]
  },
  {
   "cell_type": "markdown",
   "id": "fc31afac-066a-4fc2-afc0-84c15a0ad400",
   "metadata": {},
   "source": [
    "### BloodPressure 열을 5개의 동일한 빈도로 나누기"
   ]
  },
  {
   "cell_type": "code",
   "execution_count": null,
   "id": "0095bd5b-fe02-468f-b3fe-e11eab0cf5ce",
   "metadata": {},
   "outputs": [],
   "source": [
    "train['bloodpressure_cut'] = pd.qcut(train['BloodPressure'], q=5, labels=['A', 'B', 'C', 'D', 'E'])\n",
    "test['bloodpressure_cut'] = pd.qcut(test['BloodPressure'], q=5, labels=['A', 'B', 'C', 'D', 'E'])"
   ]
  },
  {
   "cell_type": "markdown",
   "id": "68d3b465-1256-4350-a0e5-17b24bb883ae",
   "metadata": {},
   "source": [
    "### Glucose 열을 [0, 110, 170] 구간으로 나누기"
   ]
  },
  {
   "cell_type": "code",
   "execution_count": null,
   "id": "6988fa43-edc9-41a7-b7ce-3c88ffc2b7f5",
   "metadata": {},
   "outputs": [],
   "source": [
    "train['glucose_cut'] = pd.cut(train['Glucose'], bins=[0, 110, 170], labels=['normal', 'caution'], right=False)\n",
    "test['glucose_cut'] = pd.cut(test['Glucose'], bins=[0, 110, 170], labels=['normal', 'caution'], right=False)"
   ]
  },
  {
   "cell_type": "markdown",
   "id": "53fd8055-8503-4864-bbd2-a460f8b2b65f",
   "metadata": {},
   "source": [
    "### LabelEncoder를 사용하여 glucose_cut 인코딩"
   ]
  },
  {
   "cell_type": "code",
   "execution_count": null,
   "id": "06457712-d746-482d-b84a-e39c65944ce4",
   "metadata": {},
   "outputs": [],
   "source": [
    "le = LabelEncoder()"
   ]
  },
  {
   "cell_type": "markdown",
   "id": "16dab71f-cffa-42c9-ac2c-5631ab6c8933",
   "metadata": {},
   "source": [
    "### train 데이터 인코딩"
   ]
  },
  {
   "cell_type": "code",
   "execution_count": null,
   "id": "1fe37880-0807-4767-b758-7d6c917c4080",
   "metadata": {},
   "outputs": [],
   "source": [
    "le.fit(train['glucose_cut'])\n",
    "train['glucose_cut'] = le.transform(train['glucose_cut'])"
   ]
  },
  {
   "cell_type": "markdown",
   "id": "1dd0f1be-7e3f-4b21-9d8e-95dc6cdaf8e9",
   "metadata": {},
   "source": [
    "### test 데이터 인코딩"
   ]
  },
  {
   "cell_type": "code",
   "execution_count": null,
   "id": "8785a407-36ff-4208-bd5b-b2cb408f8fb3",
   "metadata": {},
   "outputs": [],
   "source": [
    "for label in test['glucose_cut']:\n",
    "    if label not in le.classes_:\n",
    "        le.classes_ = np.append(le.classes_, label)\n",
    "\n",
    "test['glucose_cut'] = le.transform(test['glucose_cut'])"
   ]
  },
  {
   "cell_type": "markdown",
   "id": "9ca9972a-d447-4d54-a94e-ebf3ce89cfb5",
   "metadata": {},
   "source": [
    "### 특성과 레이블 분리"
   ]
  },
  {
   "cell_type": "code",
   "execution_count": null,
   "id": "3b146f8f-bd6d-4c19-880d-f55152f2439f",
   "metadata": {},
   "outputs": [],
   "source": [
    "x_train = train.drop(columns=['ID', 'Outcome'])\n",
    "y_train = train['Outcome']\n",
    "x_test = test.drop(columns=['ID'])"
   ]
  },
  {
   "cell_type": "markdown",
   "id": "cc48a772-a3a9-4147-b6ec-837c98d741c2",
   "metadata": {},
   "source": [
    "### 수치형 데이터 선택"
   ]
  },
  {
   "cell_type": "code",
   "execution_count": null,
   "id": "fd9f9569-4636-40cf-bbae-c8fd890651a8",
   "metadata": {},
   "outputs": [],
   "source": [
    "numeric_features = x_train.select_dtypes(include=['int64', 'float64']).columns"
   ]
  },
  {
   "cell_type": "markdown",
   "id": "5cfcd195-1d0d-44cb-849b-1f2d290733ed",
   "metadata": {},
   "source": [
    "### 데이터 표준화 준비"
   ]
  },
  {
   "cell_type": "code",
   "execution_count": null,
   "id": "9dcfe557-c1a1-4848-951b-978590e4b2e5",
   "metadata": {},
   "outputs": [],
   "source": [
    "scaler = StandardScaler()\n",
    "scaler.fit(x_train[numeric_features])"
   ]
  },
  {
   "cell_type": "markdown",
   "id": "60f01151-d26d-46e5-98d0-b09ab345d1c3",
   "metadata": {},
   "source": [
    "### 데이터 표준화 적용"
   ]
  },
  {
   "cell_type": "code",
   "execution_count": null,
   "id": "269afa7b-00a3-486e-9af5-4f46801206bf",
   "metadata": {},
   "outputs": [],
   "source": [
    "x_train_scaled = scaler.transform(x_train[numeric_features])\n",
    "x_test_scaled = scaler.transform(x_test[numeric_features])"
   ]
  },
  {
   "cell_type": "markdown",
   "id": "f38938fb-eba7-4175-8f98-9d47640f558d",
   "metadata": {},
   "source": [
    "### 표준화된 데이터를 원래 데이터프레임에 다시 할당"
   ]
  },
  {
   "cell_type": "code",
   "execution_count": null,
   "id": "86acc662-0f27-4084-9f7f-7558833d23ba",
   "metadata": {},
   "outputs": [],
   "source": [
    "for index, feature in enumerate(numeric_features):\n",
    "    x_train[feature + '_scaled'] = x_train_scaled[:, index]\n",
    "    x_test[feature + '_scaled'] = x_test_scaled[:, index]"
   ]
  },
  {
   "cell_type": "markdown",
   "id": "38148375-c2a1-4cc6-81fb-159c93d4af82",
   "metadata": {},
   "source": [
    "### 새로운 특성을 사용하여 훈련 데이터와 검증 데이터로 분리"
   ]
  },
  {
   "cell_type": "code",
   "execution_count": null,
   "id": "4e3cde3b-f2be-4f5f-8db3-3867ae665518",
   "metadata": {},
   "outputs": [],
   "source": [
    "x_train_scaled = x_train[[col + '_scaled' for col in numeric_features]]\n",
    "x_test_scaled = x_test[[col + '_scaled' for col in numeric_features]]\n",
    "x_train_scaled, x_val_scaled, y_train, y_val = train_test_split(x_train_scaled, y_train, test_size=0.2, random_state=42)"
   ]
  },
  {
   "cell_type": "markdown",
   "id": "72fd1ec7-8334-4f4f-8543-d807d05417f0",
   "metadata": {},
   "source": [
    "### 로지스틱 회귀 모델 생성 및 훈련"
   ]
  },
  {
   "cell_type": "code",
   "execution_count": null,
   "id": "33723bf2-5409-4ee4-ac2e-e9abb8552e5c",
   "metadata": {},
   "outputs": [],
   "source": [
    "model = LogisticRegression(max_iter=1000, random_state=42)\n",
    "model.fit(x_train_scaled, y_train)"
   ]
  },
  {
   "cell_type": "markdown",
   "id": "766812af-8e7d-487c-b310-f195a5d133fb",
   "metadata": {},
   "source": [
    "### 검증 데이터로 예측"
   ]
  },
  {
   "cell_type": "code",
   "execution_count": null,
   "id": "fa02241a-7e18-4757-a6fe-912274c39610",
   "metadata": {},
   "outputs": [],
   "source": [
    "val_y_pred = model.predict(x_val_scaled)\n",
    "accuracy = accuracy_score(y_val, val_y_pred)\n",
    "print(f'Validation Accuracy: {accuracy:.4f}')"
   ]
  },
  {
   "cell_type": "markdown",
   "id": "d83c2c1d-147c-4939-bed0-0ddd76be5fc2",
   "metadata": {},
   "source": [
    "### 테스트 데이터 예측"
   ]
  },
  {
   "cell_type": "code",
   "execution_count": null,
   "id": "a550b8ee-8de0-4b63-b704-56325dfd39e7",
   "metadata": {},
   "outputs": [],
   "source": [
    "test_predictions = model.predict(x_test_scaled)"
   ]
  },
  {
   "cell_type": "markdown",
   "id": "1dec1d32-51d6-454f-9205-69dfbfb2f4bf",
   "metadata": {},
   "source": [
    "### sample_submission 형식에 맞게 결과 저장"
   ]
  },
  {
   "cell_type": "code",
   "execution_count": null,
   "id": "a927dd12-5f42-40f7-a3a1-9b6b56b4c974",
   "metadata": {},
   "outputs": [],
   "source": [
    "submission_df = pd.DataFrame({'ID': test_ids, 'Outcome': test_predictions})\n",
    "\n",
    "submission_file_path = r\"C:\\Users\\mytoo\\OneDrive\\바탕 화면\\open\\submission.csv\"\n",
    "submission_df.to_csv(submission_file_path, index=False)\n",
    "print(f'Submission file saved to: {submission_file_path}')"
   ]
  }
 ],
 "metadata": {
  "kernelspec": {
   "display_name": "Python 3 (ipykernel)",
   "language": "python",
   "name": "python3"
  },
  "language_info": {
   "codemirror_mode": {
    "name": "ipython",
    "version": 3
   },
   "file_extension": ".py",
   "mimetype": "text/x-python",
   "name": "python",
   "nbconvert_exporter": "python",
   "pygments_lexer": "ipython3",
   "version": "3.12.4"
  }
 },
 "nbformat": 4,
 "nbformat_minor": 5
}
